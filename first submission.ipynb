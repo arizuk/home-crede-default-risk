{
 "cells": [
  {
   "cell_type": "code",
   "execution_count": 1,
   "metadata": {},
   "outputs": [],
   "source": [
    "import pandas as pd\n",
    "import numpy as np\n",
    "from sklearn.metrics import roc_auc_score\n",
    "from sklearn.model_selection import KFold\n",
    "from sklearn.model_selection import train_test_split\n",
    "\n",
    "from lightgbm import LGBMClassifier\n",
    "import gc"
   ]
  },
  {
   "cell_type": "code",
   "execution_count": 2,
   "metadata": {},
   "outputs": [],
   "source": [
    "train = pd.read_csv('./input/application_train.csv')\n",
    "test = pd.read_csv('./input/application_test.csv')\n",
    "prev = pd.read_csv('./input/previous_application.csv')\n",
    "buro = pd.read_csv('./input/bureau.csv')"
   ]
  },
  {
   "cell_type": "code",
   "execution_count": 3,
   "metadata": {},
   "outputs": [],
   "source": [
    "categorical_feats = [\n",
    "    f for f in train.columns if train[f].dtype == 'object'\n",
    "]"
   ]
  },
  {
   "cell_type": "code",
   "execution_count": 4,
   "metadata": {},
   "outputs": [],
   "source": [
    "for f in categorical_feats:\n",
    "    train[f], indexer = pd.factorize(train[f])\n",
    "    test[f] = indexer.get_indexer(test[f])"
   ]
  },
  {
   "cell_type": "code",
   "execution_count": 5,
   "metadata": {},
   "outputs": [],
   "source": [
    "gc.enable()"
   ]
  },
  {
   "cell_type": "code",
   "execution_count": 6,
   "metadata": {},
   "outputs": [],
   "source": [
    "y = train['TARGET']\n",
    "del train['TARGET']"
   ]
  },
  {
   "cell_type": "code",
   "execution_count": 7,
   "metadata": {},
   "outputs": [],
   "source": [
    "prev_cat_features = [\n",
    "    f_ for f_ in prev.columns if prev[f_].dtype == 'object'\n",
    "]\n",
    "for f_ in prev_cat_features:\n",
    "    prev[f_], _ = pd.factorize(prev[f_])"
   ]
  },
  {
   "cell_type": "code",
   "execution_count": 8,
   "metadata": {},
   "outputs": [],
   "source": [
    "avg_prev = prev.groupby('SK_ID_CURR').mean()\n",
    "cnt_prev = prev[['SK_ID_CURR', 'SK_ID_PREV']].groupby('SK_ID_CURR').count()\n",
    "avg_prev['nb_app'] = cnt_prev['SK_ID_PREV']\n",
    "del avg_prev['SK_ID_PREV']"
   ]
  },
  {
   "cell_type": "code",
   "execution_count": 9,
   "metadata": {},
   "outputs": [],
   "source": [
    "buro_cat_features = [\n",
    "    f_ for f_ in buro.columns if buro[f_].dtype == 'object'\n",
    "]\n",
    "for f_ in buro_cat_features:\n",
    "    buro[f_], _ = pd.factorize(buro[f_])\n",
    "\n",
    "avg_buro = buro.groupby('SK_ID_CURR').mean()\n",
    "avg_buro['buro_count'] = buro[['SK_ID_BUREAU','SK_ID_CURR']].groupby('SK_ID_CURR').count()['SK_ID_BUREAU']\n",
    "del avg_buro['SK_ID_BUREAU']"
   ]
  },
  {
   "cell_type": "code",
   "execution_count": 10,
   "metadata": {},
   "outputs": [],
   "source": [
    "train = train.merge(right=avg_prev.reset_index(), how='left', on='SK_ID_CURR')\n",
    "train = train.merge(right=avg_buro.reset_index(), how='left', on='SK_ID_CURR')\n",
    "\n",
    "test = test.merge(right=avg_prev.reset_index(), how='left', on='SK_ID_CURR')\n",
    "test = test.merge(right=avg_buro.reset_index(), how='left', on='SK_ID_CURR')\n"
   ]
  },
  {
   "cell_type": "code",
   "execution_count": 11,
   "metadata": {},
   "outputs": [],
   "source": [
    "excluded_feats = ['SK_ID_CURR']\n",
    "features = [f_ for f_ in train.columns if f_ not in excluded_feats]"
   ]
  },
  {
   "cell_type": "code",
   "execution_count": 12,
   "metadata": {},
   "outputs": [],
   "source": [
    "folds = KFold(n_splits=5, shuffle=True, random_state=42)\n",
    "oof_preds = np.zeros(train.shape[0])\n",
    "sub_preds = np.zeros(test.shape[0])"
   ]
  },
  {
   "cell_type": "code",
   "execution_count": 13,
   "metadata": {},
   "outputs": [
    {
     "name": "stdout",
     "output_type": "stream",
     "text": [
      "Training until validation scores don't improve for 150 rounds.\n",
      "[250]\ttraining's auc: 0.770254\tvalid_1's auc: 0.748158\n",
      "[500]\ttraining's auc: 0.789974\tvalid_1's auc: 0.757465\n",
      "[750]\ttraining's auc: 0.806531\tvalid_1's auc: 0.764054\n",
      "[1000]\ttraining's auc: 0.819404\tvalid_1's auc: 0.767972\n",
      "[1250]\ttraining's auc: 0.829609\tvalid_1's auc: 0.770193\n",
      "[1500]\ttraining's auc: 0.838134\tvalid_1's auc: 0.771626\n",
      "[1750]\ttraining's auc: 0.84613\tvalid_1's auc: 0.772677\n",
      "[2000]\ttraining's auc: 0.853338\tvalid_1's auc: 0.773411\n",
      "[2250]\ttraining's auc: 0.860023\tvalid_1's auc: 0.774008\n",
      "[2500]\ttraining's auc: 0.866237\tvalid_1's auc: 0.774371\n",
      "[2750]\ttraining's auc: 0.871961\tvalid_1's auc: 0.774473\n",
      "[3000]\ttraining's auc: 0.877506\tvalid_1's auc: 0.774687\n",
      "[3250]\ttraining's auc: 0.882837\tvalid_1's auc: 0.774824\n",
      "[3500]\ttraining's auc: 0.887755\tvalid_1's auc: 0.775035\n",
      "[3750]\ttraining's auc: 0.892328\tvalid_1's auc: 0.775107\n",
      "[4000]\ttraining's auc: 0.896822\tvalid_1's auc: 0.77508\n",
      "Early stopping, best iteration is:\n",
      "[3959]\ttraining's auc: 0.896021\tvalid_1's auc: 0.775146\n",
      "Fold  1 AUC : 0.775146\n",
      "Training until validation scores don't improve for 150 rounds.\n",
      "[250]\ttraining's auc: 0.770195\tvalid_1's auc: 0.748599\n",
      "[500]\ttraining's auc: 0.789978\tvalid_1's auc: 0.757807\n",
      "[750]\ttraining's auc: 0.806522\tvalid_1's auc: 0.764361\n",
      "[1000]\ttraining's auc: 0.819467\tvalid_1's auc: 0.768274\n",
      "[1250]\ttraining's auc: 0.830092\tvalid_1's auc: 0.770577\n",
      "[1500]\ttraining's auc: 0.838762\tvalid_1's auc: 0.772071\n",
      "[1750]\ttraining's auc: 0.846939\tvalid_1's auc: 0.773126\n",
      "[2000]\ttraining's auc: 0.854071\tvalid_1's auc: 0.773833\n",
      "[2250]\ttraining's auc: 0.860742\tvalid_1's auc: 0.774319\n",
      "[2500]\ttraining's auc: 0.867134\tvalid_1's auc: 0.774673\n",
      "[2750]\ttraining's auc: 0.873335\tvalid_1's auc: 0.775048\n",
      "[3000]\ttraining's auc: 0.878919\tvalid_1's auc: 0.775237\n",
      "[3250]\ttraining's auc: 0.884065\tvalid_1's auc: 0.775408\n",
      "[3500]\ttraining's auc: 0.889187\tvalid_1's auc: 0.775499\n",
      "Early stopping, best iteration is:\n",
      "[3484]\ttraining's auc: 0.888873\tvalid_1's auc: 0.775519\n",
      "Fold  2 AUC : 0.775519\n",
      "Training until validation scores don't improve for 150 rounds.\n",
      "[250]\ttraining's auc: 0.771202\tvalid_1's auc: 0.746896\n",
      "[500]\ttraining's auc: 0.79097\tvalid_1's auc: 0.756122\n",
      "[750]\ttraining's auc: 0.807504\tvalid_1's auc: 0.763133\n",
      "[1000]\ttraining's auc: 0.82015\tvalid_1's auc: 0.767226\n",
      "[1250]\ttraining's auc: 0.830692\tvalid_1's auc: 0.769688\n",
      "[1500]\ttraining's auc: 0.839391\tvalid_1's auc: 0.771208\n",
      "[1750]\ttraining's auc: 0.847504\tvalid_1's auc: 0.772346\n",
      "[2000]\ttraining's auc: 0.854859\tvalid_1's auc: 0.773202\n",
      "[2250]\ttraining's auc: 0.861363\tvalid_1's auc: 0.773874\n",
      "[2500]\ttraining's auc: 0.867695\tvalid_1's auc: 0.774346\n",
      "[2750]\ttraining's auc: 0.873324\tvalid_1's auc: 0.77479\n",
      "[3000]\ttraining's auc: 0.878524\tvalid_1's auc: 0.775102\n",
      "[3250]\ttraining's auc: 0.883759\tvalid_1's auc: 0.775341\n",
      "[3500]\ttraining's auc: 0.888719\tvalid_1's auc: 0.775553\n",
      "[3750]\ttraining's auc: 0.89325\tvalid_1's auc: 0.775724\n",
      "[4000]\ttraining's auc: 0.897585\tvalid_1's auc: 0.775845\n",
      "[4250]\ttraining's auc: 0.901691\tvalid_1's auc: 0.776005\n",
      "[4500]\ttraining's auc: 0.905743\tvalid_1's auc: 0.776007\n",
      "Early stopping, best iteration is:\n",
      "[4371]\ttraining's auc: 0.903646\tvalid_1's auc: 0.776026\n",
      "Fold  3 AUC : 0.776026\n",
      "Training until validation scores don't improve for 150 rounds.\n",
      "[250]\ttraining's auc: 0.770673\tvalid_1's auc: 0.745949\n",
      "[500]\ttraining's auc: 0.79017\tvalid_1's auc: 0.755857\n",
      "[750]\ttraining's auc: 0.806787\tvalid_1's auc: 0.762525\n",
      "[1000]\ttraining's auc: 0.819275\tvalid_1's auc: 0.766543\n",
      "[1250]\ttraining's auc: 0.829396\tvalid_1's auc: 0.769004\n",
      "[1500]\ttraining's auc: 0.838383\tvalid_1's auc: 0.77083\n",
      "[1750]\ttraining's auc: 0.846226\tvalid_1's auc: 0.772162\n",
      "[2000]\ttraining's auc: 0.853627\tvalid_1's auc: 0.773041\n",
      "[2250]\ttraining's auc: 0.860532\tvalid_1's auc: 0.77361\n",
      "[2500]\ttraining's auc: 0.866606\tvalid_1's auc: 0.774072\n",
      "[2750]\ttraining's auc: 0.872243\tvalid_1's auc: 0.774427\n",
      "[3000]\ttraining's auc: 0.877482\tvalid_1's auc: 0.774481\n",
      "[3250]\ttraining's auc: 0.882334\tvalid_1's auc: 0.77463\n",
      "[3500]\ttraining's auc: 0.887304\tvalid_1's auc: 0.774732\n",
      "[3750]\ttraining's auc: 0.892109\tvalid_1's auc: 0.774781\n",
      "[4000]\ttraining's auc: 0.896686\tvalid_1's auc: 0.774845\n",
      "[4250]\ttraining's auc: 0.900941\tvalid_1's auc: 0.774814\n",
      "Early stopping, best iteration is:\n",
      "[4195]\ttraining's auc: 0.900045\tvalid_1's auc: 0.774872\n",
      "Fold  4 AUC : 0.774872\n",
      "Training until validation scores don't improve for 150 rounds.\n",
      "[250]\ttraining's auc: 0.770329\tvalid_1's auc: 0.745777\n",
      "[500]\ttraining's auc: 0.790745\tvalid_1's auc: 0.756115\n",
      "[750]\ttraining's auc: 0.807132\tvalid_1's auc: 0.763012\n",
      "[1000]\ttraining's auc: 0.819703\tvalid_1's auc: 0.766535\n",
      "[1250]\ttraining's auc: 0.830035\tvalid_1's auc: 0.768754\n",
      "[1500]\ttraining's auc: 0.838654\tvalid_1's auc: 0.770181\n",
      "[1750]\ttraining's auc: 0.846344\tvalid_1's auc: 0.77108\n",
      "[2000]\ttraining's auc: 0.853475\tvalid_1's auc: 0.771702\n",
      "[2250]\ttraining's auc: 0.85988\tvalid_1's auc: 0.772273\n",
      "[2500]\ttraining's auc: 0.866075\tvalid_1's auc: 0.772794\n",
      "[2750]\ttraining's auc: 0.87196\tvalid_1's auc: 0.773243\n",
      "[3000]\ttraining's auc: 0.877486\tvalid_1's auc: 0.773464\n",
      "[3250]\ttraining's auc: 0.882412\tvalid_1's auc: 0.773618\n",
      "[3500]\ttraining's auc: 0.88721\tvalid_1's auc: 0.773755\n",
      "[3750]\ttraining's auc: 0.891816\tvalid_1's auc: 0.773766\n",
      "Early stopping, best iteration is:\n",
      "[3629]\ttraining's auc: 0.889682\tvalid_1's auc: 0.773807\n",
      "Fold  5 AUC : 0.773807\n",
      "Full AUC score 0.775042\n"
     ]
    }
   ],
   "source": [
    "for n_fold, (trn_idx, val_idx) in enumerate(folds.split(train)):\n",
    "    trn_x, trn_y = train[features].iloc[trn_idx], y.iloc[trn_idx]\n",
    "    val_x, val_y = train[features].iloc[val_idx], y.iloc[val_idx]\n",
    "    \n",
    "    clf = LGBMClassifier(\n",
    "        n_estimators=20000,\n",
    "        learning_rate=0.005,\n",
    "        num_leaves=70,\n",
    "        colsample_bytree=.8,\n",
    "        subsample=.9,\n",
    "        max_depth=7,\n",
    "        reg_alpha=.1,\n",
    "        reg_lambda=.1,\n",
    "        min_split_gain=.01,\n",
    "        min_child_weight=2,\n",
    "        device=\"gpu\"\n",
    "    )\n",
    "    \n",
    "    clf.fit(trn_x, trn_y, \n",
    "            eval_set= [(trn_x, trn_y), (val_x, val_y)], \n",
    "            eval_metric='auc', verbose=250, early_stopping_rounds=150\n",
    "           )\n",
    "    \n",
    "    oof_preds[val_idx] = clf.predict_proba(val_x, num_iteration=clf.best_iteration_)[:, 1]\n",
    "    sub_preds += clf.predict_proba(test[features], num_iteration=clf.best_iteration_)[:, 1] / folds.n_splits\n",
    "    \n",
    "    print('Fold %2d AUC : %.6f' % (n_fold + 1, roc_auc_score(val_y, oof_preds[val_idx])))\n",
    "    del clf, trn_x, trn_y, val_x, val_y\n",
    "    gc.collect()\n",
    "    \n",
    "print('Full AUC score %.6f' % roc_auc_score(y, oof_preds))   \n",
    "\n",
    "test['TARGET'] = sub_preds\n",
    "\n",
    "test[['SK_ID_CURR', 'TARGET']].to_csv('submits/first_submission.csv', index=False, float_format='%.8f')"
   ]
  }
 ],
 "metadata": {
  "kernelspec": {
   "display_name": "Python 3",
   "language": "python",
   "name": "python3"
  },
  "language_info": {
   "codemirror_mode": {
    "name": "ipython",
    "version": 3
   },
   "file_extension": ".py",
   "mimetype": "text/x-python",
   "name": "python",
   "nbconvert_exporter": "python",
   "pygments_lexer": "ipython3",
   "version": "3.6.4"
  }
 },
 "nbformat": 4,
 "nbformat_minor": 2
}

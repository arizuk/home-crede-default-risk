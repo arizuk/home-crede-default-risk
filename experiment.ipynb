{
 "cells": [
  {
   "cell_type": "code",
   "execution_count": 1,
   "metadata": {},
   "outputs": [],
   "source": [
    "%load_ext autoreload\n",
    "%autoreload 1"
   ]
  },
  {
   "cell_type": "code",
   "execution_count": 2,
   "metadata": {},
   "outputs": [],
   "source": [
    "import pandas as pd\n",
    "import numpy as np\n",
    "from sklearn.metrics import roc_auc_score\n",
    "from sklearn.model_selection import KFold\n",
    "from sklearn.model_selection import train_test_split\n",
    "import seaborn as sns\n",
    "import matplotlib.pyplot as plt\n",
    "\n",
    "\n",
    "from lightgbm import LGBMClassifier\n",
    "import gc\n",
    "import os\n",
    "import re\n",
    "import json\n",
    "\n",
    "%aimport src.utils.plot\n",
    "%aimport src.utils\n",
    "%aimport src.feats\n",
    "\n",
    "import src.utils as utils\n",
    "import src.feats as feats\n",
    "\n",
    "\n",
    "\n",
    "# %afrom src.utils import utils\n",
    "# %afrom src.feats import feats"
   ]
  },
  {
   "cell_type": "code",
   "execution_count": 3,
   "metadata": {
    "scrolled": true
   },
   "outputs": [
    {
     "name": "stdout",
     "output_type": "stream",
     "text": [
      "Memory usage of dataframe is 286.23 MB\n",
      "Memory usage after optimization is: 92.38 MB\n",
      "Decreased by 67.7%\n",
      "Memory usage of dataframe is 45.00 MB\n",
      "Memory usage after optimization is: 14.60 MB\n",
      "Decreased by 67.6%\n",
      "Memory usage of dataframe is 471.48 MB\n",
      "Memory usage after optimization is: 309.01 MB\n",
      "Decreased by 34.5%\n",
      "Memory usage of dataframe is 222.62 MB\n",
      "Memory usage after optimization is: 112.95 MB\n",
      "Decreased by 49.3%\n"
     ]
    }
   ],
   "source": [
    " train = utils.read_csv('./input/application_train.csv')\n",
    " test = utils.read_csv('./input/application_test.csv')\n",
    " prev = utils.read_csv('./input/previous_application.csv')\n",
    " buro = utils.read_csv('./input/bureau.csv')"
   ]
  },
  {
   "cell_type": "code",
   "execution_count": 4,
   "metadata": {},
   "outputs": [],
   "source": [
    "feats.app_features(train)\n",
    "feats.app_features(test)"
   ]
  },
  {
   "cell_type": "code",
   "execution_count": 5,
   "metadata": {},
   "outputs": [
    {
     "data": {
      "text/plain": [
       "['NAME_CONTRACT_TYPE',\n",
       " 'CODE_GENDER',\n",
       " 'FLAG_OWN_CAR',\n",
       " 'FLAG_OWN_REALTY',\n",
       " 'NAME_TYPE_SUITE',\n",
       " 'NAME_INCOME_TYPE',\n",
       " 'NAME_EDUCATION_TYPE',\n",
       " 'NAME_FAMILY_STATUS',\n",
       " 'NAME_HOUSING_TYPE',\n",
       " 'OCCUPATION_TYPE',\n",
       " 'WEEKDAY_APPR_PROCESS_START',\n",
       " 'ORGANIZATION_TYPE']"
      ]
     },
     "execution_count": 5,
     "metadata": {},
     "output_type": "execute_result"
    }
   ],
   "source": [
    "categorical_feats = [\n",
    "    f for f in train.columns if train[f].dtype == 'object'\n",
    "]\n",
    "categorical_feats"
   ]
  },
  {
   "cell_type": "code",
   "execution_count": 6,
   "metadata": {},
   "outputs": [],
   "source": [
    "for f in categorical_feats:\n",
    "    train[f], indexer = pd.factorize(train[f])\n",
    "    test[f] = indexer.get_indexer(test[f])"
   ]
  },
  {
   "cell_type": "code",
   "execution_count": 7,
   "metadata": {},
   "outputs": [],
   "source": [
    "gc.enable()"
   ]
  },
  {
   "cell_type": "code",
   "execution_count": 8,
   "metadata": {},
   "outputs": [],
   "source": [
    "y = train['TARGET']\n",
    "del train['TARGET']"
   ]
  },
  {
   "cell_type": "code",
   "execution_count": 9,
   "metadata": {},
   "outputs": [],
   "source": [
    "# prev_cat_features = [\n",
    "#     f_ for f_ in prev.columns if prev[f_].dtype == 'object'\n",
    "# ]\n",
    "# for f_ in prev_cat_features:\n",
    "#     prev[f_], _ = pd.factorize(prev[f_])"
   ]
  },
  {
   "cell_type": "code",
   "execution_count": 10,
   "metadata": {},
   "outputs": [
    {
     "data": {
      "text/plain": [
       "91"
      ]
     },
     "execution_count": 10,
     "metadata": {},
     "output_type": "execute_result"
    }
   ],
   "source": [
    "prev_dum = pd.DataFrame()\n",
    "prev_cat_features = [\n",
    "    f_ for f_ in prev.columns if prev[f_].dtype == 'object'\n",
    "]\n",
    "for f_ in prev_cat_features:\n",
    "    prev_dum = pd.concat([prev_dum, pd.get_dummies(prev[f_], prefix=f_).astype(np.uint8)], axis=1)\n",
    "\n",
    "prev = pd.concat([prev, prev_dum], axis=1)\n",
    "\n",
    "del prev_dum\n",
    "gc.collect()"
   ]
  },
  {
   "cell_type": "code",
   "execution_count": 11,
   "metadata": {},
   "outputs": [],
   "source": [
    "avg_prev = prev.groupby('SK_ID_CURR').mean()\n",
    "cnt_prev = prev[['SK_ID_CURR', 'SK_ID_PREV']].groupby('SK_ID_CURR').count()\n",
    "avg_prev['X_NB_APP'] = cnt_prev['SK_ID_PREV']\n",
    "del avg_prev['SK_ID_PREV']"
   ]
  },
  {
   "cell_type": "code",
   "execution_count": 12,
   "metadata": {},
   "outputs": [],
   "source": [
    "feats.prev_features(avg_prev)"
   ]
  },
  {
   "cell_type": "code",
   "execution_count": 13,
   "metadata": {},
   "outputs": [],
   "source": [
    "buro_cat_features = [\n",
    "    f_ for f_ in buro.columns if buro[f_].dtype == 'object'\n",
    "]\n",
    "for f_ in buro_cat_features:\n",
    "    buro[f_], _ = pd.factorize(buro[f_])\n",
    "\n",
    "avg_buro = buro.groupby('SK_ID_CURR').mean()\n",
    "avg_buro['X_BURO_COUNT'] = buro[['SK_ID_BUREAU','SK_ID_CURR']].groupby('SK_ID_CURR').count()['SK_ID_BUREAU']\n",
    "del avg_buro['SK_ID_BUREAU']"
   ]
  },
  {
   "cell_type": "code",
   "execution_count": 14,
   "metadata": {},
   "outputs": [],
   "source": [
    "train = train.merge(right=avg_prev.reset_index(), how='left', on='SK_ID_CURR')\n",
    "train = train.merge(right=avg_buro.reset_index(), how='left', on='SK_ID_CURR')\n",
    "\n",
    "test = test.merge(right=avg_prev.reset_index(), how='left', on='SK_ID_CURR')\n",
    "test = test.merge(right=avg_buro.reset_index(), how='left', on='SK_ID_CURR')\n"
   ]
  },
  {
   "cell_type": "code",
   "execution_count": 15,
   "metadata": {},
   "outputs": [
    {
     "data": {
      "text/plain": [
       "['NAME_CONTRACT_TYPE',\n",
       " 'CODE_GENDER',\n",
       " 'FLAG_OWN_CAR',\n",
       " 'FLAG_OWN_REALTY',\n",
       " 'CNT_CHILDREN',\n",
       " 'AMT_INCOME_TOTAL',\n",
       " 'AMT_CREDIT_x',\n",
       " 'AMT_ANNUITY_x',\n",
       " 'AMT_GOODS_PRICE_x',\n",
       " 'NAME_TYPE_SUITE',\n",
       " 'NAME_INCOME_TYPE',\n",
       " 'NAME_EDUCATION_TYPE',\n",
       " 'NAME_FAMILY_STATUS',\n",
       " 'NAME_HOUSING_TYPE',\n",
       " 'REGION_POPULATION_RELATIVE',\n",
       " 'DAYS_BIRTH',\n",
       " 'DAYS_EMPLOYED',\n",
       " 'DAYS_REGISTRATION',\n",
       " 'DAYS_ID_PUBLISH',\n",
       " 'OWN_CAR_AGE',\n",
       " 'FLAG_MOBIL',\n",
       " 'FLAG_EMP_PHONE',\n",
       " 'FLAG_WORK_PHONE',\n",
       " 'FLAG_CONT_MOBILE',\n",
       " 'FLAG_PHONE',\n",
       " 'FLAG_EMAIL',\n",
       " 'OCCUPATION_TYPE',\n",
       " 'CNT_FAM_MEMBERS',\n",
       " 'REGION_RATING_CLIENT',\n",
       " 'REGION_RATING_CLIENT_W_CITY',\n",
       " 'WEEKDAY_APPR_PROCESS_START',\n",
       " 'REG_REGION_NOT_LIVE_REGION',\n",
       " 'REG_REGION_NOT_WORK_REGION',\n",
       " 'LIVE_REGION_NOT_WORK_REGION',\n",
       " 'REG_CITY_NOT_LIVE_CITY',\n",
       " 'REG_CITY_NOT_WORK_CITY',\n",
       " 'LIVE_CITY_NOT_WORK_CITY',\n",
       " 'ORGANIZATION_TYPE',\n",
       " 'EXT_SOURCE_1',\n",
       " 'EXT_SOURCE_2',\n",
       " 'EXT_SOURCE_3',\n",
       " 'OBS_30_CNT_SOCIAL_CIRCLE',\n",
       " 'DEF_30_CNT_SOCIAL_CIRCLE',\n",
       " 'OBS_60_CNT_SOCIAL_CIRCLE',\n",
       " 'DEF_60_CNT_SOCIAL_CIRCLE',\n",
       " 'DAYS_LAST_PHONE_CHANGE',\n",
       " 'AMT_REQ_CREDIT_BUREAU_HOUR',\n",
       " 'AMT_REQ_CREDIT_BUREAU_DAY',\n",
       " 'AMT_REQ_CREDIT_BUREAU_WEEK',\n",
       " 'AMT_REQ_CREDIT_BUREAU_MON',\n",
       " 'AMT_REQ_CREDIT_BUREAU_QRT',\n",
       " 'AMT_REQ_CREDIT_BUREAU_YEAR',\n",
       " 'X_AMT_LOAN_PERIOD',\n",
       " 'X_AMT_GOODS_RATIO',\n",
       " 'X_HOUR_APPR_PROCESS_START',\n",
       " 'AMT_ANNUITY_y',\n",
       " 'AMT_CREDIT_y',\n",
       " 'AMT_DOWN_PAYMENT',\n",
       " 'AMT_GOODS_PRICE_y',\n",
       " 'HOUR_APPR_PROCESS_START',\n",
       " 'NFLAG_LAST_APPL_IN_DAY',\n",
       " 'RATE_DOWN_PAYMENT',\n",
       " 'RATE_INTEREST_PRIMARY',\n",
       " 'RATE_INTEREST_PRIVILEGED',\n",
       " 'DAYS_DECISION',\n",
       " 'SELLERPLACE_AREA',\n",
       " 'CNT_PAYMENT',\n",
       " 'DAYS_FIRST_DRAWING',\n",
       " 'DAYS_FIRST_DUE',\n",
       " 'DAYS_LAST_DUE_1ST_VERSION',\n",
       " 'DAYS_LAST_DUE',\n",
       " 'DAYS_TERMINATION',\n",
       " 'NFLAG_INSURED_ON_APPROVAL',\n",
       " 'NAME_CONTRACT_TYPE_Cash loans',\n",
       " 'NAME_CONTRACT_TYPE_Consumer loans',\n",
       " 'NAME_CONTRACT_TYPE_Revolving loans',\n",
       " 'NAME_CONTRACT_TYPE_XNA',\n",
       " 'WEEKDAY_APPR_PROCESS_START_FRIDAY',\n",
       " 'WEEKDAY_APPR_PROCESS_START_MONDAY',\n",
       " 'WEEKDAY_APPR_PROCESS_START_SATURDAY',\n",
       " 'WEEKDAY_APPR_PROCESS_START_SUNDAY',\n",
       " 'WEEKDAY_APPR_PROCESS_START_THURSDAY',\n",
       " 'WEEKDAY_APPR_PROCESS_START_TUESDAY',\n",
       " 'WEEKDAY_APPR_PROCESS_START_WEDNESDAY',\n",
       " 'FLAG_LAST_APPL_PER_CONTRACT_N',\n",
       " 'FLAG_LAST_APPL_PER_CONTRACT_Y',\n",
       " 'NAME_CASH_LOAN_PURPOSE_Building a house or an annex',\n",
       " 'NAME_CASH_LOAN_PURPOSE_Business development',\n",
       " 'NAME_CASH_LOAN_PURPOSE_Buying a garage',\n",
       " 'NAME_CASH_LOAN_PURPOSE_Buying a holiday home / land',\n",
       " 'NAME_CASH_LOAN_PURPOSE_Buying a home',\n",
       " 'NAME_CASH_LOAN_PURPOSE_Buying a new car',\n",
       " 'NAME_CASH_LOAN_PURPOSE_Buying a used car',\n",
       " 'NAME_CASH_LOAN_PURPOSE_Car repairs',\n",
       " 'NAME_CASH_LOAN_PURPOSE_Education',\n",
       " 'NAME_CASH_LOAN_PURPOSE_Everyday expenses',\n",
       " 'NAME_CASH_LOAN_PURPOSE_Furniture',\n",
       " 'NAME_CASH_LOAN_PURPOSE_Gasification / water supply',\n",
       " 'NAME_CASH_LOAN_PURPOSE_Hobby',\n",
       " 'NAME_CASH_LOAN_PURPOSE_Journey',\n",
       " 'NAME_CASH_LOAN_PURPOSE_Medicine',\n",
       " 'NAME_CASH_LOAN_PURPOSE_Money for a third person',\n",
       " 'NAME_CASH_LOAN_PURPOSE_Other',\n",
       " 'NAME_CASH_LOAN_PURPOSE_Payments on other loans',\n",
       " 'NAME_CASH_LOAN_PURPOSE_Purchase of electronic equipment',\n",
       " 'NAME_CASH_LOAN_PURPOSE_Refusal to name the goal',\n",
       " 'NAME_CASH_LOAN_PURPOSE_Repairs',\n",
       " 'NAME_CASH_LOAN_PURPOSE_Urgent needs',\n",
       " 'NAME_CASH_LOAN_PURPOSE_Wedding / gift / holiday',\n",
       " 'NAME_CASH_LOAN_PURPOSE_XAP',\n",
       " 'NAME_CASH_LOAN_PURPOSE_XNA',\n",
       " 'NAME_CONTRACT_STATUS_Approved',\n",
       " 'NAME_CONTRACT_STATUS_Canceled',\n",
       " 'NAME_CONTRACT_STATUS_Refused',\n",
       " 'NAME_CONTRACT_STATUS_Unused offer',\n",
       " 'NAME_PAYMENT_TYPE_Cash through the bank',\n",
       " 'NAME_PAYMENT_TYPE_Cashless from the account of the employer',\n",
       " 'NAME_PAYMENT_TYPE_Non-cash from your account',\n",
       " 'NAME_PAYMENT_TYPE_XNA',\n",
       " 'CODE_REJECT_REASON_CLIENT',\n",
       " 'CODE_REJECT_REASON_HC',\n",
       " 'CODE_REJECT_REASON_LIMIT',\n",
       " 'CODE_REJECT_REASON_SCO',\n",
       " 'CODE_REJECT_REASON_SCOFR',\n",
       " 'CODE_REJECT_REASON_SYSTEM',\n",
       " 'CODE_REJECT_REASON_VERIF',\n",
       " 'CODE_REJECT_REASON_XAP',\n",
       " 'CODE_REJECT_REASON_XNA',\n",
       " 'NAME_TYPE_SUITE_Children',\n",
       " 'NAME_TYPE_SUITE_Family',\n",
       " 'NAME_TYPE_SUITE_Group of people',\n",
       " 'NAME_TYPE_SUITE_Other_A',\n",
       " 'NAME_TYPE_SUITE_Other_B',\n",
       " 'NAME_TYPE_SUITE_Spouse, partner',\n",
       " 'NAME_TYPE_SUITE_Unaccompanied',\n",
       " 'NAME_CLIENT_TYPE_New',\n",
       " 'NAME_CLIENT_TYPE_Refreshed',\n",
       " 'NAME_CLIENT_TYPE_Repeater',\n",
       " 'NAME_CLIENT_TYPE_XNA',\n",
       " 'NAME_GOODS_CATEGORY_Additional Service',\n",
       " 'NAME_GOODS_CATEGORY_Animals',\n",
       " 'NAME_GOODS_CATEGORY_Audio/Video',\n",
       " 'NAME_GOODS_CATEGORY_Auto Accessories',\n",
       " 'NAME_GOODS_CATEGORY_Clothing and Accessories',\n",
       " 'NAME_GOODS_CATEGORY_Computers',\n",
       " 'NAME_GOODS_CATEGORY_Construction Materials',\n",
       " 'NAME_GOODS_CATEGORY_Consumer Electronics',\n",
       " 'NAME_GOODS_CATEGORY_Direct Sales',\n",
       " 'NAME_GOODS_CATEGORY_Education',\n",
       " 'NAME_GOODS_CATEGORY_Fitness',\n",
       " 'NAME_GOODS_CATEGORY_Furniture',\n",
       " 'NAME_GOODS_CATEGORY_Gardening',\n",
       " 'NAME_GOODS_CATEGORY_Homewares',\n",
       " 'NAME_GOODS_CATEGORY_House Construction',\n",
       " 'NAME_GOODS_CATEGORY_Insurance',\n",
       " 'NAME_GOODS_CATEGORY_Jewelry',\n",
       " 'NAME_GOODS_CATEGORY_Medical Supplies',\n",
       " 'NAME_GOODS_CATEGORY_Medicine',\n",
       " 'NAME_GOODS_CATEGORY_Mobile',\n",
       " 'NAME_GOODS_CATEGORY_Office Appliances',\n",
       " 'NAME_GOODS_CATEGORY_Other',\n",
       " 'NAME_GOODS_CATEGORY_Photo / Cinema Equipment',\n",
       " 'NAME_GOODS_CATEGORY_Sport and Leisure',\n",
       " 'NAME_GOODS_CATEGORY_Tourism',\n",
       " 'NAME_GOODS_CATEGORY_Vehicles',\n",
       " 'NAME_GOODS_CATEGORY_Weapon',\n",
       " 'NAME_GOODS_CATEGORY_XNA',\n",
       " 'NAME_PORTFOLIO_Cards',\n",
       " 'NAME_PORTFOLIO_Cars',\n",
       " 'NAME_PORTFOLIO_Cash',\n",
       " 'NAME_PORTFOLIO_POS',\n",
       " 'NAME_PORTFOLIO_XNA',\n",
       " 'NAME_PRODUCT_TYPE_XNA',\n",
       " 'NAME_PRODUCT_TYPE_walk-in',\n",
       " 'NAME_PRODUCT_TYPE_x-sell',\n",
       " 'CHANNEL_TYPE_AP+ (Cash loan)',\n",
       " 'CHANNEL_TYPE_Car dealer',\n",
       " 'CHANNEL_TYPE_Channel of corporate sales',\n",
       " 'CHANNEL_TYPE_Contact center',\n",
       " 'CHANNEL_TYPE_Country-wide',\n",
       " 'CHANNEL_TYPE_Credit and cash offices',\n",
       " 'CHANNEL_TYPE_Regional / Local',\n",
       " 'CHANNEL_TYPE_Stone',\n",
       " 'NAME_SELLER_INDUSTRY_Auto technology',\n",
       " 'NAME_SELLER_INDUSTRY_Clothing',\n",
       " 'NAME_SELLER_INDUSTRY_Connectivity',\n",
       " 'NAME_SELLER_INDUSTRY_Construction',\n",
       " 'NAME_SELLER_INDUSTRY_Consumer electronics',\n",
       " 'NAME_SELLER_INDUSTRY_Furniture',\n",
       " 'NAME_SELLER_INDUSTRY_Industry',\n",
       " 'NAME_SELLER_INDUSTRY_Jewelry',\n",
       " 'NAME_SELLER_INDUSTRY_MLM partners',\n",
       " 'NAME_SELLER_INDUSTRY_Tourism',\n",
       " 'NAME_SELLER_INDUSTRY_XNA',\n",
       " 'NAME_YIELD_GROUP_XNA',\n",
       " 'NAME_YIELD_GROUP_high',\n",
       " 'NAME_YIELD_GROUP_low_action',\n",
       " 'NAME_YIELD_GROUP_low_normal',\n",
       " 'NAME_YIELD_GROUP_middle',\n",
       " 'PRODUCT_COMBINATION_Card Street',\n",
       " 'PRODUCT_COMBINATION_Card X-Sell',\n",
       " 'PRODUCT_COMBINATION_Cash',\n",
       " 'PRODUCT_COMBINATION_Cash Street: high',\n",
       " 'PRODUCT_COMBINATION_Cash Street: low',\n",
       " 'PRODUCT_COMBINATION_Cash Street: middle',\n",
       " 'PRODUCT_COMBINATION_Cash X-Sell: high',\n",
       " 'PRODUCT_COMBINATION_Cash X-Sell: low',\n",
       " 'PRODUCT_COMBINATION_Cash X-Sell: middle',\n",
       " 'PRODUCT_COMBINATION_POS household with interest',\n",
       " 'PRODUCT_COMBINATION_POS household without interest',\n",
       " 'PRODUCT_COMBINATION_POS industry with interest',\n",
       " 'PRODUCT_COMBINATION_POS industry without interest',\n",
       " 'PRODUCT_COMBINATION_POS mobile with interest',\n",
       " 'PRODUCT_COMBINATION_POS mobile without interest',\n",
       " 'PRODUCT_COMBINATION_POS other with interest',\n",
       " 'PRODUCT_COMBINATION_POS others without interest',\n",
       " 'X_NB_APP',\n",
       " 'X_AMT_APPLICATION_DIFF_RATIO',\n",
       " 'CREDIT_ACTIVE',\n",
       " 'CREDIT_CURRENCY',\n",
       " 'DAYS_CREDIT',\n",
       " 'CREDIT_DAY_OVERDUE',\n",
       " 'DAYS_CREDIT_ENDDATE',\n",
       " 'DAYS_ENDDATE_FACT',\n",
       " 'AMT_CREDIT_MAX_OVERDUE',\n",
       " 'CNT_CREDIT_PROLONG',\n",
       " 'AMT_CREDIT_SUM',\n",
       " 'AMT_CREDIT_SUM_DEBT',\n",
       " 'AMT_CREDIT_SUM_LIMIT',\n",
       " 'AMT_CREDIT_SUM_OVERDUE',\n",
       " 'CREDIT_TYPE',\n",
       " 'DAYS_CREDIT_UPDATE',\n",
       " 'AMT_ANNUITY',\n",
       " 'X_BURO_COUNT']"
      ]
     },
     "execution_count": 15,
     "metadata": {},
     "output_type": "execute_result"
    }
   ],
   "source": [
    "excluded_feats = ['SK_ID_CURR']\n",
    "excluded_feats = sum(list(map(lambda c: [c, f\"{c}_x\", f\"{c}_y\"], excluded_feats)), [])\n",
    "features = [f_ for f_ in train.columns if f_ not in excluded_feats]\n",
    "features"
   ]
  },
  {
   "cell_type": "code",
   "execution_count": 16,
   "metadata": {},
   "outputs": [],
   "source": [
    "# trn_x, val_x, trn_y, val_y = train_test_split(train[features], y,  test_size=0.2, random_state=42)"
   ]
  },
  {
   "cell_type": "code",
   "execution_count": 17,
   "metadata": {},
   "outputs": [],
   "source": [
    "# params = {\n",
    "#     'n_estimators': 4000,\n",
    "#     'learning_rate': 0.01,\n",
    "#     'num_leaves': 63,\n",
    "#     'colsample_bytree': .8,\n",
    "#     'subsample': .8,\n",
    "#     'subsample_freq': 5,\n",
    "#     'max_depth': 5,\n",
    "#     'reg_alpha': .001,\n",
    "#     'reg_lambda': .1,\n",
    "#     'min_split_gain': .01,\n",
    "#     'device': \"gpu\",\n",
    "# #     'categorical_feature': 'name:CODE_GENDER'\n",
    "# }\n",
    "\n",
    "\n",
    "# clf = LGBMClassifier(**params)\n",
    "\n",
    "# eval_set = [(trn_x, trn_y), (val_x, val_y)]\n",
    "\n",
    "# %time clf.fit(trn_x, trn_y, eval_set=eval_set, eval_metric='auc', verbose=250, early_stopping_rounds=150)\n",
    "\n",
    "# trn_preds = clf.predict_proba(trn_x, num_iteration=clf.best_iteration_)[:, 1]\n",
    "# val_preds = clf.predict_proba(val_x, num_iteration=clf.best_iteration_)[:, 1]\n",
    "# test_preds = clf.predict_proba(test[features], num_iteration=clf.best_iteration_)[:, 1]\n",
    "\n",
    "# trn_auc = roc_auc_score(trn_y, trn_preds)\n",
    "# auc = roc_auc_score(val_y, val_preds)\n",
    "# print('AUC : %.6f' % auc)\n",
    "# gc.collect()\n",
    "\n",
    "# config = {\n",
    "#     'model': 'lgbm',\n",
    "#     'params': params,\n",
    "#     'trn_auc': trn_auc,\n",
    "#     'auc': auc,\n",
    "#     'features': features\n",
    "# }"
   ]
  },
  {
   "cell_type": "code",
   "execution_count": null,
   "metadata": {},
   "outputs": [
    {
     "name": "stderr",
     "output_type": "stream",
     "text": [
      "/home/arizuka/.pyenv/versions/3.6.4/envs/compe/lib/python3.6/site-packages/lightgbm/basic.py:658: UserWarning: categorical_feature keyword has been found in `params` and will be ignored. Please use categorical_feature argument of the Dataset constructor to pass this parameter.\n",
      "  'Please use {0} argument of the Dataset constructor to pass this parameter.'.format(key))\n"
     ]
    },
    {
     "name": "stdout",
     "output_type": "stream",
     "text": [
      "Training until validation scores don't improve for 150 rounds.\n",
      "[250]\ttraining's auc: 0.768525\tvalid_1's auc: 0.761712\n",
      "[500]\ttraining's auc: 0.789624\tvalid_1's auc: 0.774942\n",
      "[750]\ttraining's auc: 0.802206\tvalid_1's auc: 0.780507\n"
     ]
    }
   ],
   "source": [
    "test_preds = np.zeros(test.shape[0])\n",
    "trn_aucs = []\n",
    "aucs = []\n",
    "random_states = [1, 42]\n",
    "\n",
    "for i in range(0, 2):\n",
    "    trn_x, val_x, trn_y, val_y = train_test_split(train[features], y,  test_size=0.2, random_state=random_states[i])\n",
    "\n",
    "    params = {\n",
    "      'n_estimators': 4000,\n",
    "      'learning_rate': 0.01,\n",
    "      'num_leaves': 63,\n",
    "      'colsample_bytree': .8,\n",
    "      'subsample': .8,\n",
    "      'subsample_freq': 5,\n",
    "      'max_depth': 5,\n",
    "      'reg_alpha': .001,\n",
    "      'reg_lambda': .1,\n",
    "      'min_split_gain': .01,\n",
    "      'device': \"gpu\",\n",
    "      'categorical_feature': '0,1'\n",
    "    }\n",
    "\n",
    "    clf = LGBMClassifier(**params)\n",
    "\n",
    "    eval_set = [(trn_x, trn_y), (val_x, val_y)]\n",
    "    %time clf.fit(trn_x, trn_y, eval_set=eval_set, eval_metric='auc', verbose=250, early_stopping_rounds=150)\n",
    "\n",
    "    trn_preds = clf.predict_proba(trn_x, num_iteration=clf.best_iteration_)[:, 1]\n",
    "    val_preds = clf.predict_proba(val_x, num_iteration=clf.best_iteration_)[:, 1]\n",
    "    test_preds += clf.predict_proba(test[features], num_iteration=clf.best_iteration_)[:, 1]\n",
    "\n",
    "    trn_auc = roc_auc_score(trn_y, trn_preds)\n",
    "    auc = roc_auc_score(val_y, val_preds)\n",
    "    print('Iter %d AUC : %.6f' % (i+1, auc))\n",
    "    trn_aucs.append(trn_auc)\n",
    "    aucs.append(auc)\n",
    "\n",
    "    del trn_x, val_x, trn_y, val_y\n",
    "    gc.collect()\n",
    "\n",
    "test_preds = test_preds/2\n",
    "trn_auc = np.array(trn_aucs).mean()\n",
    "auc = np.array(aucs).mean()\n",
    "print('AUC train_auc %.6f val_auc %.6f' % (trn_auc, auc))\n",
    "\n",
    "config = {\n",
    "    'model': 'lgbm',\n",
    "    'params': params,\n",
    "    'trn_auc': trn_auc,\n",
    "    'auc': auc,\n",
    "}"
   ]
  },
  {
   "cell_type": "code",
   "execution_count": null,
   "metadata": {},
   "outputs": [],
   "source": [
    "utils.save_result(\n",
    "    test=test,\n",
    "    test_preds=test_preds,\n",
    "    config=config,\n",
    "    features=features,\n",
    "    clf=clf\n",
    ")"
   ]
  },
  {
   "cell_type": "code",
   "execution_count": null,
   "metadata": {},
   "outputs": [],
   "source": [
    "handmade_features = [x for x in features if x[:2] == 'X_']\n",
    "for f in handmade_features:\n",
    "    print('{}: {}'.format(f, clf.feature_importances_[features.index(f)]))\n",
    "    \n",
    "# len(features)"
   ]
  },
  {
   "cell_type": "code",
   "execution_count": null,
   "metadata": {},
   "outputs": [],
   "source": [
    "import lightgbm.plotting\n",
    "\n",
    "lightgbm.plotting.plot_importance(clf, max_num_features=100, figsize=(20, 20))"
   ]
  }
 ],
 "metadata": {
  "kernelspec": {
   "display_name": "Python 3",
   "language": "python",
   "name": "python3"
  },
  "language_info": {
   "codemirror_mode": {
    "name": "ipython",
    "version": 3
   },
   "file_extension": ".py",
   "mimetype": "text/x-python",
   "name": "python",
   "nbconvert_exporter": "python",
   "pygments_lexer": "ipython3",
   "version": "3.6.4"
  }
 },
 "nbformat": 4,
 "nbformat_minor": 2
}

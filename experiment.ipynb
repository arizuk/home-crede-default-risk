{
 "cells": [
  {
   "cell_type": "code",
   "execution_count": 1,
   "metadata": {},
   "outputs": [],
   "source": [
    "%load_ext autoreload\n",
    "%autoreload 1"
   ]
  },
  {
   "cell_type": "code",
   "execution_count": 2,
   "metadata": {},
   "outputs": [],
   "source": [
    "import pandas as pd\n",
    "import numpy as np\n",
    "from sklearn.metrics import roc_auc_score\n",
    "from sklearn.model_selection import KFold\n",
    "from sklearn.model_selection import train_test_split\n",
    "import seaborn as sns\n",
    "import matplotlib.pyplot as plt\n",
    "\n",
    "\n",
    "from lightgbm import LGBMClassifier\n",
    "import gc\n",
    "import os\n",
    "import re\n",
    "import json\n",
    "\n",
    "%aimport src.utils.plot\n",
    "%aimport src.utils\n",
    "%aimport src.feats\n",
    "\n",
    "import src.utils as utils\n",
    "import src.feats as feats\n",
    "\n",
    "\n",
    "\n",
    "# %afrom src.utils import utils\n",
    "# %afrom src.feats import feats"
   ]
  },
  {
   "cell_type": "code",
   "execution_count": 3,
   "metadata": {
    "scrolled": true
   },
   "outputs": [
    {
     "name": "stdout",
     "output_type": "stream",
     "text": [
      "Memory usage of dataframe is 286.23 MB\n",
      "Memory usage after optimization is: 92.38 MB\n",
      "Decreased by 67.7%\n",
      "Memory usage of dataframe is 45.00 MB\n",
      "Memory usage after optimization is: 14.60 MB\n",
      "Decreased by 67.6%\n",
      "Memory usage of dataframe is 471.48 MB\n",
      "Memory usage after optimization is: 309.01 MB\n",
      "Decreased by 34.5%\n",
      "Memory usage of dataframe is 222.62 MB\n",
      "Memory usage after optimization is: 112.95 MB\n",
      "Decreased by 49.3%\n"
     ]
    }
   ],
   "source": [
    " train = utils.read_csv('./input/application_train.csv')\n",
    " test = utils.read_csv('./input/application_test.csv')\n",
    " prev = utils.read_csv('./input/previous_application.csv')\n",
    " buro = utils.read_csv('./input/bureau.csv')"
   ]
  },
  {
   "cell_type": "code",
   "execution_count": 4,
   "metadata": {},
   "outputs": [],
   "source": [
    "feats.app_features(train)\n",
    "feats.app_features(test)\n",
    "feats.prev_features(prev)"
   ]
  },
  {
   "cell_type": "code",
   "execution_count": 5,
   "metadata": {},
   "outputs": [],
   "source": [
    "categorical_feats = [\n",
    "    f for f in train.columns if train[f].dtype == 'object'\n",
    "]"
   ]
  },
  {
   "cell_type": "code",
   "execution_count": 6,
   "metadata": {},
   "outputs": [],
   "source": [
    "for f in categorical_feats:\n",
    "    train[f], indexer = pd.factorize(train[f])\n",
    "    test[f] = indexer.get_indexer(test[f])"
   ]
  },
  {
   "cell_type": "code",
   "execution_count": null,
   "metadata": {},
   "outputs": [],
   "source": []
  },
  {
   "cell_type": "code",
   "execution_count": null,
   "metadata": {},
   "outputs": [],
   "source": []
  },
  {
   "cell_type": "code",
   "execution_count": null,
   "metadata": {},
   "outputs": [],
   "source": []
  },
  {
   "cell_type": "code",
   "execution_count": null,
   "metadata": {},
   "outputs": [],
   "source": []
  },
  {
   "cell_type": "code",
   "execution_count": 7,
   "metadata": {},
   "outputs": [],
   "source": [
    "gc.enable()"
   ]
  },
  {
   "cell_type": "code",
   "execution_count": 8,
   "metadata": {},
   "outputs": [],
   "source": [
    "y = train['TARGET']\n",
    "del train['TARGET']"
   ]
  },
  {
   "cell_type": "code",
   "execution_count": 9,
   "metadata": {},
   "outputs": [],
   "source": [
    "prev_cat_features = [\n",
    "    f_ for f_ in prev.columns if prev[f_].dtype == 'object'\n",
    "]\n",
    "for f_ in prev_cat_features:\n",
    "    prev[f_], _ = pd.factorize(prev[f_])"
   ]
  },
  {
   "cell_type": "code",
   "execution_count": 10,
   "metadata": {},
   "outputs": [],
   "source": [
    "avg_prev = prev.groupby('SK_ID_CURR').mean()\n",
    "cnt_prev = prev[['SK_ID_CURR', 'SK_ID_PREV']].groupby('SK_ID_CURR').count()\n",
    "avg_prev['nb_app'] = cnt_prev['SK_ID_PREV']\n",
    "del avg_prev['SK_ID_PREV']"
   ]
  },
  {
   "cell_type": "code",
   "execution_count": 11,
   "metadata": {},
   "outputs": [],
   "source": [
    "buro_cat_features = [\n",
    "    f_ for f_ in buro.columns if buro[f_].dtype == 'object'\n",
    "]\n",
    "for f_ in buro_cat_features:\n",
    "    buro[f_], _ = pd.factorize(buro[f_])\n",
    "\n",
    "avg_buro = buro.groupby('SK_ID_CURR').mean()\n",
    "avg_buro['buro_count'] = buro[['SK_ID_BUREAU','SK_ID_CURR']].groupby('SK_ID_CURR').count()['SK_ID_BUREAU']\n",
    "del avg_buro['SK_ID_BUREAU']"
   ]
  },
  {
   "cell_type": "code",
   "execution_count": 12,
   "metadata": {},
   "outputs": [],
   "source": [
    "train = train.merge(right=avg_prev.reset_index(), how='left', on='SK_ID_CURR')\n",
    "train = train.merge(right=avg_buro.reset_index(), how='left', on='SK_ID_CURR')\n",
    "\n",
    "test = test.merge(right=avg_prev.reset_index(), how='left', on='SK_ID_CURR')\n",
    "test = test.merge(right=avg_buro.reset_index(), how='left', on='SK_ID_CURR')\n"
   ]
  },
  {
   "cell_type": "code",
   "execution_count": 13,
   "metadata": {},
   "outputs": [
    {
     "data": {
      "text/plain": [
       "['NAME_CONTRACT_TYPE_x',\n",
       " 'CODE_GENDER',\n",
       " 'FLAG_OWN_CAR',\n",
       " 'FLAG_OWN_REALTY',\n",
       " 'CNT_CHILDREN',\n",
       " 'AMT_INCOME_TOTAL',\n",
       " 'AMT_CREDIT_x',\n",
       " 'AMT_ANNUITY_x',\n",
       " 'AMT_GOODS_PRICE_x',\n",
       " 'NAME_TYPE_SUITE_x',\n",
       " 'NAME_INCOME_TYPE',\n",
       " 'NAME_EDUCATION_TYPE',\n",
       " 'NAME_FAMILY_STATUS',\n",
       " 'NAME_HOUSING_TYPE',\n",
       " 'REGION_POPULATION_RELATIVE',\n",
       " 'DAYS_BIRTH',\n",
       " 'DAYS_EMPLOYED',\n",
       " 'DAYS_REGISTRATION',\n",
       " 'DAYS_ID_PUBLISH',\n",
       " 'OWN_CAR_AGE',\n",
       " 'FLAG_MOBIL',\n",
       " 'FLAG_EMP_PHONE',\n",
       " 'FLAG_WORK_PHONE',\n",
       " 'FLAG_CONT_MOBILE',\n",
       " 'FLAG_PHONE',\n",
       " 'FLAG_EMAIL',\n",
       " 'OCCUPATION_TYPE',\n",
       " 'CNT_FAM_MEMBERS',\n",
       " 'REGION_RATING_CLIENT',\n",
       " 'REGION_RATING_CLIENT_W_CITY',\n",
       " 'WEEKDAY_APPR_PROCESS_START_x',\n",
       " 'REG_REGION_NOT_LIVE_REGION',\n",
       " 'REG_REGION_NOT_WORK_REGION',\n",
       " 'LIVE_REGION_NOT_WORK_REGION',\n",
       " 'REG_CITY_NOT_LIVE_CITY',\n",
       " 'REG_CITY_NOT_WORK_CITY',\n",
       " 'LIVE_CITY_NOT_WORK_CITY',\n",
       " 'ORGANIZATION_TYPE',\n",
       " 'EXT_SOURCE_1',\n",
       " 'EXT_SOURCE_2',\n",
       " 'EXT_SOURCE_3',\n",
       " 'APARTMENTS_AVG',\n",
       " 'BASEMENTAREA_AVG',\n",
       " 'YEARS_BEGINEXPLUATATION_AVG',\n",
       " 'YEARS_BUILD_AVG',\n",
       " 'COMMONAREA_AVG',\n",
       " 'ELEVATORS_AVG',\n",
       " 'ENTRANCES_AVG',\n",
       " 'FLOORSMAX_AVG',\n",
       " 'FLOORSMIN_AVG',\n",
       " 'LANDAREA_AVG',\n",
       " 'LIVINGAPARTMENTS_AVG',\n",
       " 'LIVINGAREA_AVG',\n",
       " 'NONLIVINGAPARTMENTS_AVG',\n",
       " 'NONLIVINGAREA_AVG',\n",
       " 'APARTMENTS_MODE',\n",
       " 'BASEMENTAREA_MODE',\n",
       " 'YEARS_BEGINEXPLUATATION_MODE',\n",
       " 'YEARS_BUILD_MODE',\n",
       " 'COMMONAREA_MODE',\n",
       " 'ELEVATORS_MODE',\n",
       " 'ENTRANCES_MODE',\n",
       " 'FLOORSMAX_MODE',\n",
       " 'FLOORSMIN_MODE',\n",
       " 'LANDAREA_MODE',\n",
       " 'LIVINGAPARTMENTS_MODE',\n",
       " 'LIVINGAREA_MODE',\n",
       " 'NONLIVINGAPARTMENTS_MODE',\n",
       " 'NONLIVINGAREA_MODE',\n",
       " 'APARTMENTS_MEDI',\n",
       " 'BASEMENTAREA_MEDI',\n",
       " 'YEARS_BEGINEXPLUATATION_MEDI',\n",
       " 'YEARS_BUILD_MEDI',\n",
       " 'COMMONAREA_MEDI',\n",
       " 'ELEVATORS_MEDI',\n",
       " 'ENTRANCES_MEDI',\n",
       " 'FLOORSMAX_MEDI',\n",
       " 'FLOORSMIN_MEDI',\n",
       " 'LANDAREA_MEDI',\n",
       " 'LIVINGAPARTMENTS_MEDI',\n",
       " 'LIVINGAREA_MEDI',\n",
       " 'NONLIVINGAPARTMENTS_MEDI',\n",
       " 'NONLIVINGAREA_MEDI',\n",
       " 'FONDKAPREMONT_MODE',\n",
       " 'HOUSETYPE_MODE',\n",
       " 'TOTALAREA_MODE',\n",
       " 'WALLSMATERIAL_MODE',\n",
       " 'EMERGENCYSTATE_MODE',\n",
       " 'OBS_30_CNT_SOCIAL_CIRCLE',\n",
       " 'DEF_30_CNT_SOCIAL_CIRCLE',\n",
       " 'OBS_60_CNT_SOCIAL_CIRCLE',\n",
       " 'DEF_60_CNT_SOCIAL_CIRCLE',\n",
       " 'DAYS_LAST_PHONE_CHANGE',\n",
       " 'AMT_REQ_CREDIT_BUREAU_HOUR',\n",
       " 'AMT_REQ_CREDIT_BUREAU_DAY',\n",
       " 'AMT_REQ_CREDIT_BUREAU_WEEK',\n",
       " 'AMT_REQ_CREDIT_BUREAU_MON',\n",
       " 'AMT_REQ_CREDIT_BUREAU_QRT',\n",
       " 'AMT_REQ_CREDIT_BUREAU_YEAR',\n",
       " 'AMT_LOAN_PERIOD',\n",
       " 'AMT_GOODS_RATIO',\n",
       " 'C_HOUR_APPR_PROCESS_START',\n",
       " 'NAME_CONTRACT_TYPE_y',\n",
       " 'AMT_ANNUITY_y',\n",
       " 'AMT_APPLICATION',\n",
       " 'AMT_CREDIT_y',\n",
       " 'AMT_DOWN_PAYMENT',\n",
       " 'AMT_GOODS_PRICE_y',\n",
       " 'WEEKDAY_APPR_PROCESS_START_y',\n",
       " 'FLAG_LAST_APPL_PER_CONTRACT',\n",
       " 'NFLAG_LAST_APPL_IN_DAY',\n",
       " 'RATE_DOWN_PAYMENT',\n",
       " 'RATE_INTEREST_PRIMARY',\n",
       " 'RATE_INTEREST_PRIVILEGED',\n",
       " 'NAME_CASH_LOAN_PURPOSE',\n",
       " 'NAME_CONTRACT_STATUS',\n",
       " 'DAYS_DECISION',\n",
       " 'NAME_PAYMENT_TYPE',\n",
       " 'CODE_REJECT_REASON',\n",
       " 'NAME_TYPE_SUITE_y',\n",
       " 'NAME_CLIENT_TYPE',\n",
       " 'NAME_GOODS_CATEGORY',\n",
       " 'NAME_PORTFOLIO',\n",
       " 'NAME_PRODUCT_TYPE',\n",
       " 'CHANNEL_TYPE',\n",
       " 'SELLERPLACE_AREA',\n",
       " 'NAME_SELLER_INDUSTRY',\n",
       " 'CNT_PAYMENT',\n",
       " 'NAME_YIELD_GROUP',\n",
       " 'PRODUCT_COMBINATION',\n",
       " 'DAYS_FIRST_DRAWING',\n",
       " 'DAYS_FIRST_DUE',\n",
       " 'DAYS_LAST_DUE_1ST_VERSION',\n",
       " 'DAYS_LAST_DUE',\n",
       " 'DAYS_TERMINATION',\n",
       " 'NFLAG_INSURED_ON_APPROVAL',\n",
       " 'AMT_APPLICATION_DIFF',\n",
       " 'nb_app',\n",
       " 'CREDIT_ACTIVE',\n",
       " 'CREDIT_CURRENCY',\n",
       " 'DAYS_CREDIT',\n",
       " 'CREDIT_DAY_OVERDUE',\n",
       " 'DAYS_CREDIT_ENDDATE',\n",
       " 'DAYS_ENDDATE_FACT',\n",
       " 'AMT_CREDIT_MAX_OVERDUE',\n",
       " 'CNT_CREDIT_PROLONG',\n",
       " 'AMT_CREDIT_SUM',\n",
       " 'AMT_CREDIT_SUM_DEBT',\n",
       " 'AMT_CREDIT_SUM_LIMIT',\n",
       " 'AMT_CREDIT_SUM_OVERDUE',\n",
       " 'CREDIT_TYPE',\n",
       " 'DAYS_CREDIT_UPDATE',\n",
       " 'AMT_ANNUITY',\n",
       " 'buro_count']"
      ]
     },
     "execution_count": 13,
     "metadata": {},
     "output_type": "execute_result"
    }
   ],
   "source": [
    "excluded_feats = ['SK_ID_CURR', 'HOUR_APPR_PROCESS_START']\n",
    "excluded_feats = sum(list(map(lambda c: [c, f\"{c}_x\", f\"{c}_y\"], excluded_feats)), [])\n",
    "features = [f_ for f_ in train.columns if f_ not in excluded_feats]\n",
    "features"
   ]
  },
  {
   "cell_type": "code",
   "execution_count": 14,
   "metadata": {},
   "outputs": [],
   "source": [
    "# trn_x, val_x, trn_y, val_y = train_test_split(train[features], y,  test_size=0.2, random_state=42)"
   ]
  },
  {
   "cell_type": "code",
   "execution_count": 15,
   "metadata": {},
   "outputs": [],
   "source": [
    "# params = {\n",
    "#     'n_estimators': 4000,\n",
    "#     'learning_rate': 0.01,\n",
    "#     'num_leaves': 63,\n",
    "#     'colsample_bytree': .8,\n",
    "#     'subsample': .8,\n",
    "#     'subsample_freq': 5,\n",
    "#     'max_depth': 5,\n",
    "#     'reg_alpha': .001,\n",
    "#     'reg_lambda': .1,\n",
    "#     'min_split_gain': .01,\n",
    "#     'device': \"gpu\",\n",
    "# #     'categorical_feature': 'name:CODE_GENDER'\n",
    "# }\n",
    "\n",
    "\n",
    "# clf = LGBMClassifier(**params)\n",
    "\n",
    "# eval_set = [(trn_x, trn_y), (val_x, val_y)]\n",
    "\n",
    "# %time clf.fit(trn_x, trn_y, eval_set=eval_set, eval_metric='auc', verbose=250, early_stopping_rounds=150)\n",
    "\n",
    "# trn_preds = clf.predict_proba(trn_x, num_iteration=clf.best_iteration_)[:, 1]\n",
    "# val_preds = clf.predict_proba(val_x, num_iteration=clf.best_iteration_)[:, 1]\n",
    "# test_preds = clf.predict_proba(test[features], num_iteration=clf.best_iteration_)[:, 1]\n",
    "\n",
    "# trn_auc = roc_auc_score(trn_y, trn_preds)\n",
    "# auc = roc_auc_score(val_y, val_preds)\n",
    "# print('AUC : %.6f' % auc)\n",
    "# gc.collect()\n",
    "\n",
    "# config = {\n",
    "#     'model': 'lgbm',\n",
    "#     'params': params,\n",
    "#     'trn_auc': trn_auc,\n",
    "#     'auc': auc,\n",
    "#     'features': features\n",
    "# }"
   ]
  },
  {
   "cell_type": "code",
   "execution_count": 16,
   "metadata": {},
   "outputs": [
    {
     "name": "stdout",
     "output_type": "stream",
     "text": [
      "Training until validation scores don't improve for 150 rounds.\n",
      "[250]\ttraining's auc: 0.767368\tvalid_1's auc: 0.761442\n",
      "[500]\ttraining's auc: 0.788383\tvalid_1's auc: 0.774705\n",
      "[750]\ttraining's auc: 0.80121\tvalid_1's auc: 0.780186\n",
      "[1000]\ttraining's auc: 0.810925\tvalid_1's auc: 0.782903\n",
      "[1250]\ttraining's auc: 0.819362\tvalid_1's auc: 0.784816\n",
      "[1500]\ttraining's auc: 0.827179\tvalid_1's auc: 0.786087\n",
      "[1750]\ttraining's auc: 0.834074\tvalid_1's auc: 0.786848\n",
      "[2000]\ttraining's auc: 0.840505\tvalid_1's auc: 0.787714\n",
      "[2250]\ttraining's auc: 0.846565\tvalid_1's auc: 0.788043\n",
      "[2500]\ttraining's auc: 0.852379\tvalid_1's auc: 0.788577\n",
      "[2750]\ttraining's auc: 0.858064\tvalid_1's auc: 0.789225\n",
      "[3000]\ttraining's auc: 0.863304\tvalid_1's auc: 0.789373\n",
      "[3250]\ttraining's auc: 0.868311\tvalid_1's auc: 0.789663\n",
      "[3500]\ttraining's auc: 0.873064\tvalid_1's auc: 0.789769\n",
      "[3750]\ttraining's auc: 0.877707\tvalid_1's auc: 0.789962\n",
      "[4000]\ttraining's auc: 0.881708\tvalid_1's auc: 0.789994\n",
      "Did not meet early stopping. Best iteration is:\n",
      "[4000]\ttraining's auc: 0.881708\tvalid_1's auc: 0.789994\n",
      "CPU times: user 26min 4s, sys: 2min 16s, total: 28min 21s\n",
      "Wall time: 7min 17s\n",
      "Iter 1 AUC : 0.789994\n",
      "Training until validation scores don't improve for 150 rounds.\n",
      "[250]\ttraining's auc: 0.768525\tvalid_1's auc: 0.754597\n",
      "[500]\ttraining's auc: 0.789275\tvalid_1's auc: 0.767199\n",
      "[750]\ttraining's auc: 0.801979\tvalid_1's auc: 0.772368\n",
      "[1000]\ttraining's auc: 0.811676\tvalid_1's auc: 0.775234\n",
      "[1250]\ttraining's auc: 0.81997\tvalid_1's auc: 0.777061\n",
      "[1500]\ttraining's auc: 0.827935\tvalid_1's auc: 0.778304\n",
      "[1750]\ttraining's auc: 0.834973\tvalid_1's auc: 0.779325\n",
      "[2000]\ttraining's auc: 0.841444\tvalid_1's auc: 0.779848\n",
      "[2250]\ttraining's auc: 0.846904\tvalid_1's auc: 0.780174\n",
      "[2500]\ttraining's auc: 0.85253\tvalid_1's auc: 0.780482\n",
      "[2750]\ttraining's auc: 0.857646\tvalid_1's auc: 0.780608\n",
      "[3000]\ttraining's auc: 0.862855\tvalid_1's auc: 0.780901\n",
      "[3250]\ttraining's auc: 0.8679\tvalid_1's auc: 0.781121\n",
      "Early stopping, best iteration is:\n",
      "[3275]\ttraining's auc: 0.868395\tvalid_1's auc: 0.781157\n",
      "CPU times: user 23min 2s, sys: 2min 8s, total: 25min 11s\n",
      "Wall time: 6min 24s\n",
      "Iter 2 AUC : 0.781157\n",
      "AUC train_auc 0.875052 val_auc 0.785576\n"
     ]
    }
   ],
   "source": [
    "test_preds = np.zeros(test.shape[0])\n",
    "trn_aucs = []\n",
    "aucs = []\n",
    "random_states = [1, 42]\n",
    "\n",
    "for i in range(0, 2):\n",
    "    trn_x, val_x, trn_y, val_y = train_test_split(train[features], y,  test_size=0.2, random_state=random_states[i])\n",
    "\n",
    "    params = {\n",
    "      'n_estimators': 4000,\n",
    "      'learning_rate': 0.01,\n",
    "      'num_leaves': 63,\n",
    "      'colsample_bytree': .8,\n",
    "      'subsample': .8,\n",
    "      'subsample_freq': 5,\n",
    "      'max_depth': 5,\n",
    "      'reg_alpha': .001,\n",
    "      'reg_lambda': .1,\n",
    "      'min_split_gain': .01,\n",
    "      'device': \"gpu\",\n",
    "    #     'categorical_feature': 'name:CODE_GENDER'\n",
    "    }\n",
    "\n",
    "    clf = LGBMClassifier(**params)\n",
    "\n",
    "    eval_set = [(trn_x, trn_y), (val_x, val_y)]\n",
    "    %time clf.fit(trn_x, trn_y, eval_set=eval_set, eval_metric='auc', verbose=250, early_stopping_rounds=150)\n",
    "\n",
    "    trn_preds = clf.predict_proba(trn_x, num_iteration=clf.best_iteration_)[:, 1]\n",
    "    val_preds = clf.predict_proba(val_x, num_iteration=clf.best_iteration_)[:, 1]\n",
    "    test_preds += clf.predict_proba(test[features], num_iteration=clf.best_iteration_)[:, 1]\n",
    "\n",
    "    trn_auc = roc_auc_score(trn_y, trn_preds)\n",
    "    auc = roc_auc_score(val_y, val_preds)\n",
    "    print('Iter %d AUC : %.6f' % (i+1, auc))\n",
    "    trn_aucs.append(trn_auc)\n",
    "    aucs.append(auc)\n",
    "\n",
    "    del trn_x, val_x, trn_y, val_y\n",
    "    gc.collect()\n",
    "\n",
    "test_preds = test_preds/2\n",
    "trn_auc = np.array(trn_aucs).mean()\n",
    "auc = np.array(aucs).mean()\n",
    "print('AUC train_auc %.6f val_auc %.6f' % (trn_auc, auc))\n",
    "\n",
    "config = {\n",
    "    'model': 'lgbm',\n",
    "    'params': params,\n",
    "    'trn_auc': trn_auc,\n",
    "    'auc': auc,\n",
    "    'features': features\n",
    "}"
   ]
  },
  {
   "cell_type": "code",
   "execution_count": 17,
   "metadata": {},
   "outputs": [
    {
     "name": "stdout",
     "output_type": "stream",
     "text": [
      "Save to ./experiments/032-lgbm-0.785576.csv\n"
     ]
    }
   ],
   "source": [
    "utils.save_result(\n",
    "    test=test,\n",
    "    test_preds=test_preds,\n",
    "    config=config,\n",
    ")"
   ]
  },
  {
   "cell_type": "code",
   "execution_count": 20,
   "metadata": {},
   "outputs": [
    {
     "name": "stdout",
     "output_type": "stream",
     "text": [
      "AMT_APPLICATION: 641\n",
      "AMT_APPLICATION_DIFF: 1080\n"
     ]
    }
   ],
   "source": [
    "tmp_features = ['AMT_APPLICATION', 'AMT_APPLICATION_DIFF']\n",
    "for f in tmp_features:\n",
    "    print('{}: {}'.format(f, clf.feature_importances_[features.index(f)]))"
   ]
  },
  {
   "cell_type": "code",
   "execution_count": null,
   "metadata": {},
   "outputs": [],
   "source": [
    "import lightgbm.plotting\n",
    "\n",
    "lightgbm.plotting.plot_importance(clf, max_num_features=100, figsize=(20, 20))"
   ]
  }
 ],
 "metadata": {
  "kernelspec": {
   "display_name": "Python 3",
   "language": "python",
   "name": "python3"
  },
  "language_info": {
   "codemirror_mode": {
    "name": "ipython",
    "version": 3
   },
   "file_extension": ".py",
   "mimetype": "text/x-python",
   "name": "python",
   "nbconvert_exporter": "python",
   "pygments_lexer": "ipython3",
   "version": "3.6.4"
  }
 },
 "nbformat": 4,
 "nbformat_minor": 2
}
